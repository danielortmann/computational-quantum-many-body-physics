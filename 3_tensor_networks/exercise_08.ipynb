{
 "cells": [
  {
   "cell_type": "markdown",
   "metadata": {},
   "source": [
    "Consider the AKLT spin-1 Hamiltonian\n",
    "$$\n",
    "    H = \\sum_{i=1}^{L-1} \\vec{S}_{i} \\cdot \\vec{S}_{i+1} + \\frac{1}{3} (\\vec{S}_{i} \\cdot \\vec{S}_{i+1})^{2}\n",
    "$$\n",
    "\n",
    "with periodic boundary conditions, i.e. $L + 1 = 1$, and with the spin-1 operators\n",
    "$$\n",
    "\\begin{align*}\n",
    "    S^{x} & = \\frac{1}{\\sqrt{2}} \\begin{pmatrix} 0 & 1 & 0 \\\\  1 & 0 & 1 \\\\  0 & 1 & 0 \\end{pmatrix}\n",
    "    &\n",
    "    S^{y} & = \\frac{1}{\\sqrt{2} i} \\begin{pmatrix} 0 & 1 & 0 \\\\  -1 & 0 & 1 \\\\  0 & -1 & 0 \\end{pmatrix}\n",
    "    &\n",
    "    S^{z} & = \\frac{1}{\\sqrt{2}} \\begin{pmatrix} 1 & 0 & 0 \\\\  0 & 0 & 0 \\\\  0 & 0 & -1 \\end{pmatrix}\n",
    "\\end{align*}\n",
    "\\,.$$"
   ]
  },
  {
   "cell_type": "markdown",
   "metadata": {},
   "source": [
    "The ground state is given by\n",
    "$ \\ket{\\Psi_{0}} = \\sum_{{s}} \\mathrm{Tr}[M^{[1]s_{1}} M^{[1]s_{1}} ... M^{[L]s_{L}}] \\ket{s_{1}s_{2}...s_{L}} \\,.$\n",
    "\n",
    "with the AKLT ground state tensors\n",
    "$$\n",
    "\\begin{align*}\n",
    "    M^{[n] +1} & = \\sqrt{\\frac{4}{3}}\\begin{pmatrix} 0 & 0 \\\\ \\frac{1}{\\sqrt{2}} & 0 \\end{pmatrix}\n",
    "    &\n",
    "    M^{[n] 0} & = \\sqrt{\\frac{4}{3}}\\begin{pmatrix} \\frac{1}{2} & 0 \\\\ 0 & -\\frac{1}{2} \\end{pmatrix}\n",
    "    &\n",
    "    M^{[n] -1} & = \\sqrt{\\frac{4}{3}}\\begin{pmatrix} 0 & -\\frac{1}{\\sqrt{2}} \\\\ 0 & 0 \\end{pmatrix}\n",
    "\\end{align*}\n",
    "\\,$$\n",
    "for all $n\\in\\{1, ..., L\\} \\,.$"
   ]
  },
  {
   "cell_type": "markdown",
   "metadata": {},
   "source": [
    "In the following we consider open boundary conditions."
   ]
  },
  {
   "cell_type": "code",
   "execution_count": 1,
   "metadata": {},
   "outputs": [],
   "source": [
    "import numpy as np\n",
    "import matplotlib.pyplot as plt"
   ]
  },
  {
   "cell_type": "code",
   "execution_count": 2,
   "metadata": {},
   "outputs": [],
   "source": [
    "Sx = np.array([[0, 1, 0], [1, 0, 1], [0, 1, 0]]) / np.sqrt(2)\n",
    "Sy = np.array([[0, 1, 0], [-1, 0, 1], [0, -1, 0]]) / np.sqrt(2) / 1.j\n",
    "Sz = np.array([[1, 0, 0], [0, 0, 0], [0, 0, -1]])"
   ]
  },
  {
   "cell_type": "code",
   "execution_count": 3,
   "metadata": {},
   "outputs": [],
   "source": [
    "# def construct_aklt(L: int):\n",
    "\n",
    "#     M = np.zeros((2, 3, 2), dtype='float')\n",
    "#     M[:, 0, :] = np.sqrt(2/3) * np.array([[0, 0], [1, 0]])\n",
    "#     M[:, 1, :] = np.sqrt(1/3) * np.array([[1, 0], [0, -1]])\n",
    "#     M[:, 2, :] = np.sqrt(2/3) * np.array([[0, -1], [0, 0]])\n",
    "    \n",
    "#     aklt_mps = [M for _ in range(L)]\n",
    "    \n",
    "#     return aklt_mps\n",
    "\n",
    "def construct_mps_singlets(L):\n",
    "    \"\"\"construct 2L-2 pairs of singlets and single spin-ups on the edges\"\"\"\n",
    "    spin_up = np.array([1, 0]).reshape(1, 2, 1)\n",
    "\n",
    "    M_odd_up, M_odd_down = [[1/np.sqrt(2), 0]], [[0, -1/np.sqrt(2)]]    \n",
    "    M_odd = np.swapaxes([M_odd_up, M_odd_down], 0, 1)\n",
    "\n",
    "    M_even_up, M_even_down = [[0], [1]], [[1], [0]]\n",
    "    M_even = np.swapaxes([M_even_up, M_even_down], 0, 1)\n",
    "\n",
    "    mps = [spin_up] + [M_odd if n % 2 == 1 else M_even for n in range(1, 2*L - 1)] + [spin_up]\n",
    "    return mps\n",
    "\n",
    "def construct_P():\n",
    "    P_plus = [[1, 0], [0, 0]]\n",
    "    P_minus = [[0, 0], [0, 1]]\n",
    "    P_zero = np.array([[0, 1], [1, 0]]) / np.sqrt(2)\n",
    "    P = np.array([P_plus, P_zero, P_minus])\n",
    "    return P\n",
    "\n",
    "def construct_aklt(L):\n",
    "    mps_singlets = construct_mps_singlets(L)\n",
    "    P = construct_P()\n",
    "    \n",
    "    aklt = []\n",
    "    for (M_even, M_odd) in zip(mps_singlets[::2], mps_singlets[1::2]):\n",
    "        t = np.tensordot(M_even, P, axes=[1, 1]) # eL [j] eR, j [pL] pR\n",
    "        t = np.tensordot(t, M_odd, axes=[3, 1]) # eL eR j [pR], oL [j] oR\n",
    "        M = t.squeeze(axis=(1, 3)) # eL eR j oL oR -> eL j oR\n",
    "        aklt.append(M)\n",
    "    # P is non-unitary, normalization is necessary\n",
    "    norm = inner_product(aklt, aklt)**(0.5)\n",
    "    aklt = [M / norm**(1/L) for M in aklt]\n",
    "    return aklt\n",
    "\n",
    "def inner_product(mps_a: list, mps_b: list):\n",
    "    L = len(mps_a)\n",
    "    assert L == len(mps_b)\n",
    "\n",
    "    t = np.tensordot(mps_b[0], mps_a[0].conj(), axes=[1, 1]) # vL [j] vR, vL* [j*] vR*\n",
    "    t = t.squeeze(axis=(0, 2))  # vR vR*\n",
    "    for n in range(1, L):\n",
    "        t = np.tensordot(t, mps_b[n], axes=[0, 0]) # [vR] vR*, [vL] j vR\n",
    "        t = np.tensordot(t, mps_a[n].conj(), axes=[[0, 1], [0, 1]]) # [vR*] [j] vR, [vL*] [j*] vR*\n",
    "    return t.item()"
   ]
  },
  {
   "cell_type": "markdown",
   "metadata": {},
   "source": [
    "Let's compute the energy density of the ground state by acting on it with the Hamiltonian."
   ]
  },
  {
   "cell_type": "code",
   "execution_count": 4,
   "metadata": {},
   "outputs": [],
   "source": [
    "def bond_expectation_values(mps, op1, op2):\n",
    "    \"\"\"Calculate bond expectation value of local operator of the form op1 x op2 at each bond.\n",
    "    op1 acts on site i and op2 acts on site i+1\n",
    "\n",
    "    Parameters\n",
    "    ----------\n",
    "    mps : list of np.Array[ndim=3]\n",
    "        Normalized MPS to calculate the expectation values for. \n",
    "\n",
    "    op1, op2 :\n",
    "        Spin-1 operators acting on two neighboring sites i and i+1, respectively.\n",
    "\n",
    "    Returns\n",
    "    ----------\n",
    "    exp_vals : list\n",
    "        Expectation values at each bond.\n",
    "    \"\"\"\n",
    "    L = len(mps)\n",
    "    exp_vals = list()\n",
    "    for i in range(L-1):\n",
    "        t1 = np.tensordot(mps[i], op1, axes=[1, 1])\n",
    "        t2 = np.tensordot(mps[i+1], op2, axes=[1, 1])\n",
    "\n",
    "        t1 = np.tensordot(t1, mps[i].conj(), axes=[[0, 2], [0, 1]])\n",
    "        t2 = np.tensordot(t2, mps[i+1].conj(), axes=[[1, 2], [2, 1]])\n",
    "\n",
    "        exp_val = np.tensordot(t1, t2, axes=[[0, 1], [0, 1]])\n",
    "        exp_vals.append(exp_val)\n",
    "    return np.array(exp_vals)"
   ]
  },
  {
   "cell_type": "code",
   "execution_count": 5,
   "metadata": {},
   "outputs": [],
   "source": [
    "def energy_density(mps):\n",
    "    L = len(mps)\n",
    "    spin_ops = [Sx, Sy, Sz]\n",
    "    E = 0\n",
    "    for s in spin_ops:\n",
    "        E += bond_expectation_values(mps, s, s).sum()\n",
    "        for s_ in spin_ops:\n",
    "            E += bond_expectation_values(mps, s@s_, s@s_).sum() / 3\n",
    "        \n",
    "    assert np.isclose(E.imag, 0)\n",
    "    return (E / L).real"
   ]
  },
  {
   "cell_type": "code",
   "execution_count": 6,
   "metadata": {},
   "outputs": [
    {
     "data": {
      "text/plain": [
       "-1.266666666666667"
      ]
     },
     "execution_count": 6,
     "metadata": {},
     "output_type": "execute_result"
    }
   ],
   "source": [
    "L = 30\n",
    "aklt_mps = construct_aklt(L)\n",
    "energy_density(aklt_mps)"
   ]
  },
  {
   "cell_type": "markdown",
   "metadata": {},
   "source": [
    "Let's compute the sring correlation function $C(i, j) = \\langle S_{i}^{z} \\,\\, \\prod_{i<k<j} e^{i \\pi S_{k}^{z}} \\,\\, S_{j}^{z} \\rangle$."
   ]
  },
  {
   "cell_type": "code",
   "execution_count": 7,
   "metadata": {},
   "outputs": [],
   "source": [
    "def string_correlations(mps, X, Y, Z, i): # op1, op2, op_inter\n",
    "    c_list = list()\n",
    "\n",
    "    # case j=i\n",
    "    t = np.tensordot(X@Y, mps[i], [1, 1])  # i* [i], vL [i] vR\n",
    "    c = np.tensordot(mps[i].conj(), t, [[0, 1, 2], [1, 0, 2]]) # [vL*] [i*] [vR*], [i*] [vL] [vR]\n",
    "    c_list.append(c)\n",
    "\n",
    "    # case j>i\n",
    "    L = len(mps)\n",
    "    if i < L - 1:\n",
    "        t = np.tensordot(X, mps[i], [1, 1]) # i* [i], vL [i] vR\n",
    "        t = np.tensordot(t, mps[i].conj(), [[0, 1], [1, 0]]) # [i*] [vL] vR, [vL*] [i*] vR*\n",
    "        for j in range(i + 1, L):\n",
    "            t = np.tensordot(t, mps[j], [0, 0]) # [vR] vR*, [vL] j vR\n",
    "            t_copy = t.copy()\n",
    "            t_copy = np.tensordot(t_copy, Y, [1, 1]) # vR* [j] vR, j* [j]\n",
    "            c = np.tensordot(t_copy, mps[j].conj(), [[0, 1, 2], [0, 2, 1]]) # [vR*] [vR] [j*], [vL*] [j*] [vR*]\n",
    "            c_list.append(c)\n",
    "            del t_copy\n",
    "\n",
    "            if j + 1 < L:\n",
    "                t = np.tensordot(t, Z, axes=[1, 1]) # vR* [j] vR, j [k]\n",
    "                t = np.tensordot(t, mps[j].conj(), [[0, 2], [0, 1]]) # [vR*] vR [j], [vL*] [j*] vR*\n",
    "                \n",
    "    return c_list"
   ]
  },
  {
   "cell_type": "code",
   "execution_count": 8,
   "metadata": {},
   "outputs": [],
   "source": [
    "# def site_expectation_value(mps, op, i):\n",
    "#     t = np.tensordot(mps[i], op, [1, 1]) # vL [i] vR, i [k]\n",
    "#     return np.tensordot(t, mps[i].conj(), [[0, 1, 2], [0, 2, 1]]) # vL vR i, vL* i* vR*"
   ]
  },
  {
   "cell_type": "code",
   "execution_count": 9,
   "metadata": {},
   "outputs": [
    {
     "data": {
      "image/png": "[encoded data removed]",
      "text/plain": [
       "<Figure size 640x480 with 1 Axes>"
      ]
     },
     "metadata": {},
     "output_type": "display_data"
    }
   ],
   "source": [
    "L = 20\n",
    "aklt_mps = construct_aklt(L)\n",
    "# string_corr = string_correlations(aklt_mps, Sz, Sz, np.exp(1.j*np.pi*Sz), L//4 - 1)\n",
    "string_corr = string_correlations(aklt_mps, Sz, Sz, np.diag([-1, 1, -1]), L//4 - 1)\n",
    "\n",
    "C = np.array(string_corr) #- np.array([ site_expectation_value(aklt_mps, Sz, L//4 - 1)*site_expectation_value(aklt_mps, Sz, j) for j in range(L//4 - 1, L) ])\n",
    "\n",
    "fig, ax = plt.subplots(1, 1)\n",
    "# ax.plot(string_corr, label=\"L={L:d}\".format(L=len(aklt_mps)))\n",
    "ax.plot(C, label=\"L={L:d}\".format(L=len(aklt_mps)))\n",
    "ax.set_xlabel(\"$|L/4 - j|$\")\n",
    "ax.set_ylabel(\"$C(i, j)$\")\n",
    "ax.legend()\n",
    "ax.grid()"
   ]
  },
  {
   "cell_type": "markdown",
   "metadata": {},
   "source": [
    "The string correlation does not vanish in the limit $L \\to \\infty$ and $|i - j| \\to \\infty$, indicating the presence of hidden order. In particular, $C(i, j) \\to - 8/9$ (for $|i-j|\\to\\infty$). The literature value $-4/9$ refers to the case with periodic boundary condtions. Let's verify this case as well."
   ]
  },
  {
   "cell_type": "code",
   "execution_count": null,
   "metadata": {},
   "outputs": [],
   "source": [
    "def construct_aklt(L: int):\n",
    "    M = np.zeros((2, 3, 2), dtype='float')\n",
    "    M[:, 0, :] = np.sqrt(2/3) * np.array([[0, 0], [1, 0]])\n",
    "    M[:, 1, :] = np.sqrt(1/3) * np.array([[1, 0], [0, -1]])\n",
    "    M[:, 2, :] = np.sqrt(2/3) * np.array([[0, -1], [0, 0]])\n",
    "    aklt_mps = [M for _ in range(L)]\n",
    "    return aklt_mps\n",
    "\n",
    "\n",
    "def string_correlations(mps, X, Y, Z, i, pbc=False): # op1, op2, op_inter\n",
    "    c_list = list()\n",
    "\n",
    "    # # case j=i\n",
    "    # t = np.tensordot(X@Y, mps[i], [1, 1])  # i* [i], vL [i] vR\n",
    "    # c = np.tensordot(mps[i].conj(), t, [[0, 1, 2], [1, 0, 2]]) # [vL*] [i*] [vR*], [i*] [vL] [vR]\n",
    "    # c_list.append(c)\n",
    "\n",
    "    # case j=i\n",
    "    for l in range(i):\n",
    "        t = np.tensordot(mps[l], mps[l].conj(), [1, 1])  # vL [i] vR, vL* [i*] vR*\n",
    "        t = np.tensordot(t, mps[l+1], [[1, 3], [0, 1]]) # vL [vR] vL* vR*, [vL] i vR\n",
    "        if l==i:\n",
    "            t = np.tensordot(t, X@Y, [1, 1])  # vL vL* [i], i* [i]\n",
    "    c = np.tensordot(mps[i].conj(), t, [[0, 1, 2], [1, 0, 2]]) # [vL*] [i*] [vR*], [i*] [vL] [vR]\n",
    "    c_list.append(c)\n",
    "\n",
    "    # case j>i\n",
    "    L = len(mps)\n",
    "    if i < L - 1:\n",
    "        t = np.tensordot(X, mps[i], [1, 1]) # i* [i], vL [i] vR\n",
    "        t = np.tensordot(t, mps[i].conj(), [[0, 1], [1, 0]]) # [i*] [vL] vR, [vL*] [i*] vR*\n",
    "        for j in range(i + 1, L):\n",
    "            t = np.tensordot(t, mps[j], [0, 0]) # [vR] vR*, [vL] j vR\n",
    "            t_copy = t.copy()\n",
    "            t_copy = np.tensordot(t_copy, Y, [1, 1]) # vR* [j] vR, j* [j]\n",
    "            c = np.tensordot(t_copy, mps[j].conj(), [[0, 1, 2], [0, 2, 1]]) # [vR*] [vR] [j*], [vL*] [j*] [vR*]\n",
    "            c_list.append(c)\n",
    "            del t_copy\n",
    "            if j + 1 < L:\n",
    "                t = np.tensordot(t, Z, axes=[1, 1]) # vR* [j] vR, j [k]\n",
    "                t = np.tensordot(t, mps[j].conj(), [[0, 2], [0, 1]]) # [vR*] vR [j], [vL*] [j*] vR*\n",
    "\n",
    "    return c_list"
   ]
  },
  {
   "cell_type": "code",
   "execution_count": null,
   "metadata": {},
   "outputs": [],
   "source": [
    "L = 20\n",
    "aklt_mps = construct_aklt(L)\n",
    "# string_corr = string_correlations(aklt_mps, Sz, Sz, np.exp(1.j*np.pi*Sz), L//4 - 1)\n",
    "string_corr = string_correlations(aklt_mps, Sz, Sz, np.diag([-1, 1, -1]), L//4 - 1)\n",
    "\n",
    "C = np.array(string_corr) #- np.array([ site_expectation_value(aklt_mps, Sz, L//4 - 1)*site_expectation_value(aklt_mps, Sz, j) for j in range(L//4 - 1, L) ])\n",
    "\n",
    "fig, ax = plt.subplots(1, 1)\n",
    "# ax.plot(string_corr, label=\"L={L:d}\".format(L=len(aklt_mps)))\n",
    "ax.plot(C, label=\"L={L:d}\".format(L=len(aklt_mps)))\n",
    "ax.set_xlabel(\"$|L/4 - j|$\")\n",
    "ax.set_ylabel(\"$C(i, j)$\")\n",
    "ax.legend()\n",
    "ax.grid()"
   ]
  }
 ],
 "metadata": {
  "kernelspec": {
   "display_name": "cmb",
   "language": "python",
   "name": "python3"
  },
  "language_info": {
   "codemirror_mode": {
    "name": "ipython",
    "version": 3
   },
   "file_extension": ".py",
   "mimetype": "text/x-python",
   "name": "python",
   "nbconvert_exporter": "python",
   "pygments_lexer": "ipython3",
   "version": "3.10.11"
  },
  "orig_nbformat": 4
 },
 "nbformat": 4,
 "nbformat_minor": 2
}
