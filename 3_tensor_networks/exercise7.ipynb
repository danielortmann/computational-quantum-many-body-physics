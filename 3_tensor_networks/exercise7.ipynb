{
 "cells": [
  {
   "cell_type": "code",
   "execution_count": 1,
   "metadata": {},
   "outputs": [],
   "source": [
    "import scipy as sp\n",
    "import numpy as np\n",
    "import matplotlib.pyplot as plt\n",
    "\n",
    "import ed"
   ]
  },
  {
   "attachments": {},
   "cell_type": "markdown",
   "metadata": {},
   "source": [
    "**Exercise 7.1**"
   ]
  },
  {
   "attachments": {},
   "cell_type": "markdown",
   "metadata": {},
   "source": [
    "(a)"
   ]
  },
  {
   "cell_type": "code",
   "execution_count": 2,
   "metadata": {},
   "outputs": [
    {
     "name": "stdout",
     "output_type": "stream",
     "text": [
      "-23.22295943411731\n",
      "-23.22295943411731\n"
     ]
    }
   ],
   "source": [
    "L = 14\n",
    "g = 1.5\n",
    "J = 1.\n",
    "sx_list = ed.gen_sx_list(L)\n",
    "sz_list = ed.gen_sz_list(L)\n",
    "H = ed.gen_hamiltonian(sx_list, sz_list, g, J)\n",
    "E, vecs = sp.sparse.linalg.eigsh(H, which='SA')\n",
    "psi0 = vecs[:, 0]\n",
    "print(E[0])\n",
    "assert psi0.shape == (2**L, )\n",
    "print(np.inner(psi0.conj(), H*psi0))"
   ]
  },
  {
   "attachments": {},
   "cell_type": "markdown",
   "metadata": {},
   "source": [
    "(b)"
   ]
  },
  {
   "cell_type": "code",
   "execution_count": 3,
   "metadata": {},
   "outputs": [],
   "source": [
    "def compress(ψ, L: int, χ_max: int):\n",
    "\n",
    "    ψ = ψ.reshape(1, 2**L)\n",
    "    Ms = list()\n",
    "    for n in range(1, L + 1, 1):\n",
    "\n",
    "        χ, _ = ψ.shape\n",
    "        # reshape next physical bond to the 'left'\n",
    "        ψ = ψ.reshape(χ*2, 2**(L-n))\n",
    "        # perform SVD\n",
    "        M, Λ, ψ_tilde = np.linalg.svd(ψ, full_matrices=False)\n",
    "        # truncate\n",
    "        M = M[:, :χ_max]\n",
    "        Λ = Λ[:χ_max]\n",
    "        ψ_tilde = ψ_tilde[:χ_max, :]\n",
    "        # reshape to MPS tensor\n",
    "        M = M.reshape(χ, 2, -1)\n",
    "        Ms.append(M)\n",
    "        # re-absorb singular value matrix \n",
    "        ψ =  Λ[:, None] * ψ_tilde\n",
    "\n",
    "    # check norm\n",
    "    norm = ψ.item()\n",
    "    assert np.isclose(norm, 1.)\n",
    "\n",
    "    return Ms\n"
   ]
  },
  {
   "attachments": {},
   "cell_type": "markdown",
   "metadata": {},
   "source": [
    "(c)  \n",
    "The number of non-zero singular values at bond $n+1$ is equal to the rank of the matrix $\\psi_{L_{n}, R_{n}}$ to be decomposed by SVD.  \n",
    "Since $\\mathrm{rk(\\psi_{L_{n}, R_{n}})}\\le\\min\\{2^n, \\,2^{L-n}\\}\\le 2^{\\lfloor{L/2}\\rfloor}$, any tensor with physical bond dimensions of 2 each can be represented exactly by an MPS with $\\chi_{\\mathrm{max}}=2^{\\lfloor{L/2}\\rfloor}$.  \n",
    "However, this is only needed for the intermediate bond. In fact, the maximally necessary bond dimension decreases exponentially when proceeding to the outer bonds (cf. first bound)."
   ]
  },
  {
   "cell_type": "code",
   "execution_count": 4,
   "metadata": {},
   "outputs": [],
   "source": [
    "mps_ex = compress(psi0, L, 2**7)"
   ]
  },
  {
   "attachments": {},
   "cell_type": "markdown",
   "metadata": {},
   "source": [
    "(d)"
   ]
  },
  {
   "cell_type": "code",
   "execution_count": 5,
   "metadata": {},
   "outputs": [],
   "source": [
    "mps_compr = compress(psi0, L, 10)"
   ]
  },
  {
   "cell_type": "code",
   "execution_count": 6,
   "metadata": {},
   "outputs": [
    {
     "data": {
      "text/plain": [
       "(43688, 1688)"
      ]
     },
     "execution_count": 6,
     "metadata": {},
     "output_type": "execute_result"
    }
   ],
   "source": [
    "sum([M.size for M in mps_ex]), sum([M.size for M in mps_compr])"
   ]
  },
  {
   "attachments": {},
   "cell_type": "markdown",
   "metadata": {},
   "source": [
    "(e)"
   ]
  },
  {
   "cell_type": "code",
   "execution_count": 7,
   "metadata": {},
   "outputs": [],
   "source": [
    "def inner_product(mps_a: list, mps_b: list):\n",
    "\n",
    "    L = len(mps_a)\n",
    "    assert L == len(mps_b)\n",
    "\n",
    "    t = np.tensordot(mps_b[0], mps_a[0].conj(), axes=[1, 1]) # vL [j] vR, vL* [j*] vR*\n",
    "    t = t.squeeze(axis=(0, 2))  # vR vR*\n",
    "\n",
    "    for n in range(1, L):\n",
    "\n",
    "        t = np.tensordot(t, mps_b[n], axes=[0, 0]) # [vR] vR*, [vL] j vR\n",
    "        t = np.tensordot(t, mps_a[n].conj(), axes=[[0, 1], [0, 1]]) # [vR*] [j] vR, [vL*] [j*] vR*\n",
    "\n",
    "    return t.item()"
   ]
  },
  {
   "cell_type": "code",
   "execution_count": 8,
   "metadata": {},
   "outputs": [
    {
     "data": {
      "text/plain": [
       "True"
      ]
     },
     "execution_count": 8,
     "metadata": {},
     "output_type": "execute_result"
    }
   ],
   "source": [
    "np.isclose(1, inner_product(mps_ex, mps_ex))"
   ]
  },
  {
   "cell_type": "code",
   "execution_count": 9,
   "metadata": {},
   "outputs": [
    {
     "data": {
      "text/plain": [
       "0.9999999999999898"
      ]
     },
     "execution_count": 9,
     "metadata": {},
     "output_type": "execute_result"
    }
   ],
   "source": [
    "inner_product(mps_ex, mps_compr)"
   ]
  },
  {
   "attachments": {},
   "cell_type": "markdown",
   "metadata": {},
   "source": [
    "(f)"
   ]
  },
  {
   "cell_type": "code",
   "execution_count": 10,
   "metadata": {},
   "outputs": [],
   "source": [
    "mps_spinup = [np.array([1., 0.]).reshape(1, 2, 1) for _ in range(L)]"
   ]
  },
  {
   "cell_type": "code",
   "execution_count": 11,
   "metadata": {},
   "outputs": [
    {
     "data": {
      "text/plain": [
       "0.8146943346076264"
      ]
     },
     "execution_count": 11,
     "metadata": {},
     "output_type": "execute_result"
    }
   ],
   "source": [
    "inner_product(mps_spinup, mps_compr)"
   ]
  },
  {
   "attachments": {},
   "cell_type": "markdown",
   "metadata": {},
   "source": [
    "**Exercise 7.2**"
   ]
  },
  {
   "attachments": {},
   "cell_type": "markdown",
   "metadata": {},
   "source": [
    "(a)"
   ]
  },
  {
   "cell_type": "code",
   "execution_count": 12,
   "metadata": {},
   "outputs": [],
   "source": [
    "def construct_mps_singlets(L):\n",
    "    \"\"\"construct 2L-2 pairs of singlets and single spin-ups on the edges\"\"\"\n",
    "\n",
    "    spin_up = np.array([1, 0]).reshape(1, 2, 1)\n",
    "\n",
    "    M_odd_up, M_odd_down = [[1/np.sqrt(2), 0]], [[0, -1/np.sqrt(2)]]    \n",
    "    M_odd = np.swapaxes([M_odd_up, M_odd_down], 0, 1)\n",
    "\n",
    "    M_even_up, M_even_down = [[0], [1]], [[1], [0]]\n",
    "    M_even = np.swapaxes([M_even_up, M_even_down], 0, 1)\n",
    "\n",
    "    mps = [spin_up] + [M_odd if n % 2 == 1 else M_even for n in range(1, 2*L - 1)] + [spin_up]\n",
    "\n",
    "    return mps"
   ]
  },
  {
   "cell_type": "code",
   "execution_count": 13,
   "metadata": {},
   "outputs": [],
   "source": [
    "mps_singlets = construct_mps_singlets(L)"
   ]
  },
  {
   "attachments": {},
   "cell_type": "markdown",
   "metadata": {},
   "source": [
    "(b)"
   ]
  },
  {
   "cell_type": "code",
   "execution_count": 14,
   "metadata": {},
   "outputs": [
    {
     "data": {
      "text/plain": [
       "0.9999999999999979"
      ]
     },
     "execution_count": 14,
     "metadata": {},
     "output_type": "execute_result"
    }
   ],
   "source": [
    "inner_product(mps_singlets, mps_singlets)"
   ]
  },
  {
   "cell_type": "code",
   "execution_count": 15,
   "metadata": {},
   "outputs": [],
   "source": [
    "def correlation(mps, op):\n",
    "    \n",
    "    L = len(mps)\n",
    "    C = np.zeros((L, L))\n",
    "    for i in range(L):\n",
    "        for j in range(L):\n",
    "            \n",
    "            mps_copy = mps.copy()\n",
    "\n",
    "            t = np.tensordot(mps_copy[i], op, axes=[1, 1]) # vL [i] vR, i [k]\n",
    "            mps_copy[i] = np.transpose(t, axes=[0, 2, 1]) # vL i vR\n",
    "\n",
    "            t = np.tensordot(mps_copy[j], op, axes=[1, 1]) # vL [j] vR, j [k]\n",
    "            mps_copy[j] = np.transpose(t, axes=[0, 2, 1]) # vL j vR\n",
    "\n",
    "            C[i, j] = inner_product(mps, mps_copy)\n",
    "\n",
    "            del mps_copy\n",
    "\n",
    "    return C"
   ]
  },
  {
   "cell_type": "code",
   "execution_count": 16,
   "metadata": {},
   "outputs": [
    {
     "data": {
      "image/png": "[encoded data removed]",
      "text/plain": [
       "<Figure size 640x480 with 2 Axes>"
      ]
     },
     "metadata": {},
     "output_type": "display_data"
    }
   ],
   "source": [
    "sz = np.diag([1, -1])\n",
    "C_singlets = correlation(mps_singlets, sz)\n",
    "\n",
    "fig, ax = plt.subplots(1, 1)\n",
    "img = ax.imshow(C_singlets, origin='lower')\n",
    "plt.colorbar(img, ax=ax, label='$<\\sigma^{z}_{i} \\sigma^{z}_{j}>$')\n",
    "ax.set_xlabel('i'), ax.set_ylabel('j');"
   ]
  },
  {
   "attachments": {},
   "cell_type": "markdown",
   "metadata": {},
   "source": [
    "Note that the correlation function for the single spins on the edges is ${\\bra{\\uparrow} \\sigma \\ket{\\uparrow}}^{2}=1$.  \n",
    "For all other $|i-j|>1$, the correlation function vanishes and the singlets show anti-correlated measurement results as expected."
   ]
  },
  {
   "attachments": {},
   "cell_type": "markdown",
   "metadata": {},
   "source": [
    "(c) + (d)"
   ]
  },
  {
   "cell_type": "code",
   "execution_count": 17,
   "metadata": {},
   "outputs": [],
   "source": [
    "def construct_P():\n",
    "    P_plus = [[1, 0], [0, 0]]\n",
    "    P_minus = [[0, 0], [0, 1]]\n",
    "    P_zero = np.array([[0, 1], [1, 0]]) / np.sqrt(2)\n",
    "    P = np.array([P_plus, P_zero, P_minus])\n",
    "    return P"
   ]
  },
  {
   "cell_type": "code",
   "execution_count": 18,
   "metadata": {},
   "outputs": [],
   "source": [
    "def construct_aklt(L):\n",
    "\n",
    "    mps_singlets = construct_mps_singlets(L)\n",
    "    P = construct_P()\n",
    "    \n",
    "    aklt = []\n",
    "    for (M_even, M_odd) in zip(mps_singlets[::2], mps_singlets[1::2]):\n",
    "        \n",
    "        t = np.tensordot(M_even, P, axes=[1, 1]) # eL [j] eR, j [pL] pR\n",
    "        t = np.tensordot(t, M_odd, axes=[3, 1]) # eL eR j [pR], oL [j] oR\n",
    "        M = t.squeeze(axis=(1, 3)) # eL eR j oL oR -> eL j oR\n",
    "        aklt.append(M)\n",
    "\n",
    "    # P is non-unitary, normalization is necessary\n",
    "    norm = inner_product(aklt, aklt)**(0.5)\n",
    "    aklt = [M / norm**(1/L) for M in aklt]\n",
    "\n",
    "    return aklt"
   ]
  },
  {
   "cell_type": "code",
   "execution_count": 19,
   "metadata": {},
   "outputs": [
    {
     "data": {
      "text/plain": [
       "True"
      ]
     },
     "execution_count": 19,
     "metadata": {},
     "output_type": "execute_result"
    }
   ],
   "source": [
    "mps_aklt = construct_aklt(L)\n",
    "\n",
    "np.isclose(1, inner_product(mps_aklt, mps_aklt))"
   ]
  },
  {
   "attachments": {},
   "cell_type": "markdown",
   "metadata": {},
   "source": [
    "(e)"
   ]
  },
  {
   "cell_type": "code",
   "execution_count": 20,
   "metadata": {},
   "outputs": [
    {
     "data": {
      "image/png": "[encoded data removed]",
      "text/plain": [
       "<Figure size 640x480 with 2 Axes>"
      ]
     },
     "metadata": {},
     "output_type": "display_data"
    }
   ],
   "source": [
    "Sz = np.diag([1, 0, -1])\n",
    "C_aklt = correlation(mps_aklt, Sz)\n",
    "\n",
    "fig, ax = plt.subplots(1, 1)\n",
    "img = ax.imshow(C_aklt, origin='lower')\n",
    "plt.colorbar(img, ax=ax, label='$<S^{z}_{i} S^{z}_{j}>$')\n",
    "ax.set_xlabel('i'), ax.set_ylabel('j');"
   ]
  }
 ],
 "metadata": {
  "kernelspec": {
   "display_name": "cmb",
   "language": "python",
   "name": "python3"
  },
  "language_info": {
   "codemirror_mode": {
    "name": "ipython",
    "version": 3
   },
   "file_extension": ".py",
   "mimetype": "text/x-python",
   "name": "python",
   "nbconvert_exporter": "python",
   "pygments_lexer": "ipython3",
   "version": "3.10.11"
  },
  "orig_nbformat": 4
 },
 "nbformat": 4,
 "nbformat_minor": 2
}
