{
 "cells": [
  {
   "attachments": {},
   "cell_type": "markdown",
   "metadata": {},
   "source": [
    "**<h1> Exercise 1.2 </h1>**"
   ]
  },
  {
   "cell_type": "code",
   "execution_count": 23,
   "metadata": {},
   "outputs": [],
   "source": [
    "import numpy as np\n",
    "import scipy.integrate as integrate\n",
    "import matplotlib.pyplot as plt"
   ]
  },
  {
   "cell_type": "code",
   "execution_count": 24,
   "metadata": {},
   "outputs": [],
   "source": [
    "a, b = 0, 10\n",
    "f = lambda x: np.exp(-x) / (1 + (x-1)**2)\n",
    "I_ref, _ = integrate.quad(f, a, b)"
   ]
  },
  {
   "cell_type": "code",
   "execution_count": 25,
   "metadata": {},
   "outputs": [],
   "source": [
    "I = lambda X, N: f(X).sum() * (b-a) / N"
   ]
  },
  {
   "attachments": {},
   "cell_type": "markdown",
   "metadata": {},
   "source": [
    "**Exercise 1.1 (a)**"
   ]
  },
  {
   "cell_type": "code",
   "execution_count": 26,
   "metadata": {},
   "outputs": [],
   "source": [
    "def estimate_error(n, N):\n",
    "\n",
    "    Ilist = []\n",
    "    for _ in range(n):\n",
    "        U = np.random.uniform(low=a, high=b, size=N)\n",
    "        Ilist.append(I(U, N))\n",
    "\n",
    "    errors = np.abs(np.array(Ilist) - I_ref)\n",
    "    mean_error = np.sum(errors)/n\n",
    "    \n",
    "    return mean_error"
   ]
  },
  {
   "cell_type": "code",
   "execution_count": 27,
   "metadata": {},
   "outputs": [],
   "source": [
    "n = 100\n",
    "Nlist = np.arange(1000, 100000 + 1000, 1000)\n",
    "error_list = np.array([estimate_error(n, N) for N in Nlist])"
   ]
  },
  {
   "cell_type": "code",
   "execution_count": 28,
   "metadata": {},
   "outputs": [
    {
     "data": {
      "image/png": "[encoded data removed]",
      "text/plain": [
       "<Figure size 640x480 with 1 Axes>"
      ]
     },
     "metadata": {},
     "output_type": "display_data"
    }
   ],
   "source": [
    "fig, ax = plt.subplots()\n",
    "ax.plot(Nlist, error_list, '.')\n",
    "plt.xscale('log')\n",
    "plt.yscale('log')\n",
    "ax.set_xlabel(\"$N$\")\n",
    "ax.set_ylabel(\"$\\overline{\\epsilon}$\")\n",
    "ax.grid()"
   ]
  },
  {
   "attachments": {},
   "cell_type": "markdown",
   "metadata": {},
   "source": [
    "log-log scale linear function with gradient -1/2  $\\implies$  mean error $\\bar{\\epsilon} \\sim \\frac{1}{\\sqrt{N}}$  <br /> <br />"
   ]
  },
  {
   "attachments": {},
   "cell_type": "markdown",
   "metadata": {},
   "source": [
    "**Exercise 1.1 (b)**"
   ]
  },
  {
   "cell_type": "code",
   "execution_count": 37,
   "metadata": {},
   "outputs": [],
   "source": [
    "alpha = 1.46\n",
    "g = lambda x: alpha*np.exp(-alpha*x)\n",
    "cdf_inverse = lambda u: np.log(1/(1-u)) /alpha"
   ]
  },
  {
   "cell_type": "code",
   "execution_count": 38,
   "metadata": {},
   "outputs": [],
   "source": [
    "I = lambda X, N: (f(X)/g(X)).sum() / N"
   ]
  },
  {
   "cell_type": "code",
   "execution_count": 39,
   "metadata": {},
   "outputs": [],
   "source": [
    "def estimate_error(n, N):\n",
    "\n",
    "    Ilist = []    \n",
    "    for _ in range(n):\n",
    "        U = np.random.uniform(low=0, high=1, size=N)\n",
    "        Ilist.append(I(cdf_inverse(U), N))\n",
    "\n",
    "    errors = np.abs(np.array(Ilist) - I_ref)\n",
    "    mean_error = np.sum(errors)/n\n",
    "    \n",
    "    return mean_error"
   ]
  },
  {
   "cell_type": "code",
   "execution_count": 40,
   "metadata": {},
   "outputs": [],
   "source": [
    "n = 100\n",
    "Nlist = np.arange(1000, 100000 + 1000, 1000)\n",
    "error_list = np.array([estimate_error(n, N) for N in Nlist])"
   ]
  },
  {
   "cell_type": "code",
   "execution_count": 43,
   "metadata": {},
   "outputs": [
    {
     "name": "stderr",
     "output_type": "stream",
     "text": [
      "/var/folders/pr/vr1bzx8s7dl68c3ykzmr4v1c0000gn/T/ipykernel_3063/1806661554.py:5: MatplotlibDeprecationWarning: Passing the emit parameter of set_ylim() positionally is deprecated since Matplotlib 3.6; the parameter will become keyword-only two minor releases later.\n",
      "  plt.ylim(10**(-4), 10**(-2), 10**(-1))\n"
     ]
    },
    {
     "data": {
      "image/png": "[encoded data removed]",
      "text/plain": [
       "<Figure size 640x480 with 1 Axes>"
      ]
     },
     "metadata": {},
     "output_type": "display_data"
    }
   ],
   "source": [
    "fig, ax = plt.subplots()\n",
    "ax.plot(Nlist, error_list, '.')\n",
    "plt.xscale('log')\n",
    "plt.yscale('log')\n",
    "plt.ylim(10**(-4), 10**(-2), 10**(-1))\n",
    "ax.set_xlabel(\"$N$\")\n",
    "ax.set_ylabel(\"$\\overline{\\epsilon}$\")\n",
    "ax.grid()"
   ]
  },
  {
   "attachments": {},
   "cell_type": "markdown",
   "metadata": {},
   "source": [
    "Same scaling as before, but with a offset of $\\approx 10^{5/4}$, i.e. the accuracy is greatly increased for the same $N$ w.r.t. to (a)"
   ]
  },
  {
   "cell_type": "markdown",
   "metadata": {},
   "source": []
  }
 ],
 "metadata": {
  "kernelspec": {
   "display_name": "cmb",
   "language": "python",
   "name": "python3"
  },
  "language_info": {
   "codemirror_mode": {
    "name": "ipython",
    "version": 3
   },
   "file_extension": ".py",
   "mimetype": "text/x-python",
   "name": "python",
   "nbconvert_exporter": "python",
   "pygments_lexer": "ipython3",
   "version": "3.10.11"
  },
  "orig_nbformat": 4
 },
 "nbformat": 4,
 "nbformat_minor": 2
}
